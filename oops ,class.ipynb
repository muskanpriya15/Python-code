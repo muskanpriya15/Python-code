{
 "cells": [
  {
   "cell_type": "code",
   "execution_count": 44,
   "id": "a339eb15",
   "metadata": {},
   "outputs": [
    {
     "name": "stdout",
     "output_type": "stream",
     "text": [
      "Ram\n"
     ]
    }
   ],
   "source": [
    "class student:\n",
    "    def detail(self):\n",
    "        print(\"Ram\")\n",
    "        \n",
    "s = student()\n",
    "s.detail()"
   ]
  },
  {
   "cell_type": "code",
   "execution_count": 45,
   "id": "dfcd9d4d",
   "metadata": {
    "scrolled": true
   },
   "outputs": [
    {
     "name": "stdout",
     "output_type": "stream",
     "text": [
      "Name: Ram ID: 12345\n"
     ]
    }
   ],
   "source": [
    "class Employee:\n",
    "    def detail(self,name,id):\n",
    "        print(\"Name:\",name,\"ID:\",id)\n",
    "        \n",
    "s = Employee()\n",
    "s.detail('Ram',12345)"
   ]
  },
  {
   "cell_type": "code",
   "execution_count": 46,
   "id": "d68b7b37",
   "metadata": {},
   "outputs": [
    {
     "name": "stdout",
     "output_type": "stream",
     "text": [
      "Name : Ram || Marks : 20 || Subject : Maths\n",
      "Name : Shyam || Marks : 50 || Subject : Science\n"
     ]
    }
   ],
   "source": [
    "class Student:\n",
    "    def detail(self,name,marks,subject):\n",
    "        print(\"Name :\",name,\"||\",\"Marks :\",marks,\"||\",\"Subject :\",subject)\n",
    "        \n",
    "s = Student()\n",
    "s.detail('Ram',20,'Maths')\n",
    "s.detail('Shyam',50,'Science')"
   ]
  },
  {
   "cell_type": "markdown",
   "id": "87141131",
   "metadata": {},
   "source": []
  },
  {
   "cell_type": "code",
   "execution_count": 54,
   "id": "997e8696",
   "metadata": {},
   "outputs": [
    {
     "name": "stdout",
     "output_type": "stream",
     "text": [
      "Ram\n",
      "20\n",
      "Maths\n",
      "Shyam\n",
      "50\n",
      "Science\n"
     ]
    }
   ],
   "source": [
    "class stud:\n",
    "    def detail(self,name,marks,subject):\n",
    "        i=0\n",
    "        while(i<=len(name)-1):\n",
    "            print(name[i])\n",
    "            print(marks[i])\n",
    "            print(subject[i])\n",
    "            i+=1\n",
    "        \n",
    "s = stud()\n",
    "s.detail(['Ram','Shyam'],[20,50],['Maths','Science'])"
   ]
  },
  {
   "cell_type": "code",
   "execution_count": 2,
   "id": "855f4a5b",
   "metadata": {},
   "outputs": [
    {
     "data": {
      "text/plain": [
       "('Ram', 20, 'Maths')"
      ]
     },
     "execution_count": 2,
     "metadata": {},
     "output_type": "execute_result"
    }
   ],
   "source": [
    "class stud:\n",
    "    def detail(self,name,marks,subject):\n",
    "        i=0\n",
    "        while(i<=len(name)-1):\n",
    "            return (name[i],marks[i],subject[i])\n",
    "            i+=1\n",
    "        \n",
    "s = stud()\n",
    "s.detail(['Ram','Shyam'],[20,50],['Maths','Science'])"
   ]
  },
  {
   "cell_type": "code",
   "execution_count": 4,
   "id": "7ff50fe8",
   "metadata": {},
   "outputs": [
    {
     "name": "stdout",
     "output_type": "stream",
     "text": [
      "muskan patna 50\n"
     ]
    }
   ],
   "source": [
    "class student:\n",
    "    def __init__(self,name,address,marks):\n",
    "        self.name=name\n",
    "        self.address=address\n",
    "        self.marks=marks\n",
    "        \n",
    "c=student(\"muskan\",\"patna\",\"50\")\n",
    "print(c.name,c.address,c.marks)"
   ]
  },
  {
   "cell_type": "code",
   "execution_count": 6,
   "id": "58ace2bc",
   "metadata": {},
   "outputs": [
    {
     "name": "stdout",
     "output_type": "stream",
     "text": [
      "muskan 52\n",
      "minni 85\n"
     ]
    }
   ],
   "source": [
    "class student:\n",
    "    def __init__(self,name,marks):\n",
    "        self.name=name\n",
    "        self.marks=marks\n",
    "c1=student(\"muskan\",\"52\")\n",
    "c2=student(\"minni\",\"85\")\n",
    "print(c1.name,c1.marks)\n",
    "print(c2.name,c2.marks)\n"
   ]
  },
  {
   "cell_type": "code",
   "execution_count": null,
   "id": "2ad03595",
   "metadata": {},
   "outputs": [],
   "source": []
  }
 ],
 "metadata": {
  "kernelspec": {
   "display_name": "Python 3",
   "language": "python",
   "name": "python3"
  },
  "language_info": {
   "codemirror_mode": {
    "name": "ipython",
    "version": 3
   },
   "file_extension": ".py",
   "mimetype": "text/x-python",
   "name": "python",
   "nbconvert_exporter": "python",
   "pygments_lexer": "ipython3",
   "version": "3.8.8"
  }
 },
 "nbformat": 4,
 "nbformat_minor": 5
}
